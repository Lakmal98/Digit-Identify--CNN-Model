{
  "nbformat": 4,
  "nbformat_minor": 0,
  "metadata": {
    "colab": {
      "name": "Convolution Neural Networks.ipynb",
      "provenance": []
    },
    "kernelspec": {
      "name": "python3",
      "display_name": "Python 3"
    },
    "language_info": {
      "name": "python"
    }
  },
  "cells": [
    {
      "cell_type": "code",
      "metadata": {
        "id": "Z8XFzCIGZlSi"
      },
      "source": [
        "#import libraries\n",
        "from keras.models import Sequential \n",
        "from keras.layers import Dense, Conv2D, Flatten\n",
        "from keras.datasets import mnist\n",
        "from tensorflow.keras.utils import to_categorical\n",
        "import matplotlib.pyplot as plt\n",
        "import numpy as np\n"
      ],
      "execution_count": 5,
      "outputs": []
    },
    {
      "cell_type": "code",
      "metadata": {
        "id": "hfDVBp1z0wur"
      },
      "source": [
        "#Load the data and split into train and test datasets\n",
        "(x_train, y_train), (x_test, y_test) = mnist.load_data()"
      ],
      "execution_count": null,
      "outputs": []
    },
    {
      "cell_type": "code",
      "metadata": {
        "colab": {
          "base_uri": "https://localhost:8080/"
        },
        "id": "WH8ic9d11SEE",
        "outputId": "acda661a-9ac9-4859-a3ee-af360063a4aa"
      },
      "source": [
        "#Get the image shape\n",
        "print(x_train.shape)\n",
        "print(x_test.shape)\n"
      ],
      "execution_count": 12,
      "outputs": [
        {
          "output_type": "stream",
          "text": [
            "(60000, 28, 28)\n",
            "(10000, 28, 28)\n"
          ],
          "name": "stdout"
        }
      ]
    },
    {
      "cell_type": "code",
      "metadata": {
        "id": "vzbn8HDz1_SF"
      },
      "source": [
        "# Take a look at the first image at traing dataset\n",
        "x_train[0]"
      ],
      "execution_count": null,
      "outputs": []
    },
    {
      "cell_type": "code",
      "metadata": {
        "colab": {
          "base_uri": "https://localhost:8080/"
        },
        "id": "lwjU53nd2gnK",
        "outputId": "b9651fae-c5e1-4d28-cffb-0dc1e69b2d11"
      },
      "source": [
        "#print the image label\n",
        "y_train[0]"
      ],
      "execution_count": 14,
      "outputs": [
        {
          "output_type": "execute_result",
          "data": {
            "text/plain": [
              "5"
            ]
          },
          "metadata": {
            "tags": []
          },
          "execution_count": 14
        }
      ]
    },
    {
      "cell_type": "code",
      "metadata": {
        "colab": {
          "base_uri": "https://localhost:8080/",
          "height": 282
        },
        "id": "yOrTWhcl2n5k",
        "outputId": "191f5ae5-b348-4144-fe6e-c44f9e8545c3"
      },
      "source": [
        "# show image as picutre\n",
        "plt.imshow(x_train[10])"
      ],
      "execution_count": 20,
      "outputs": [
        {
          "output_type": "execute_result",
          "data": {
            "text/plain": [
              "<matplotlib.image.AxesImage at 0x7fce272c49d0>"
            ]
          },
          "metadata": {
            "tags": []
          },
          "execution_count": 20
        },
        {
          "output_type": "display_data",
          "data": {
            "image/png": "[encoded data removed]",
            "text/plain": [
              "<Figure size 432x288 with 1 Axes>"
            ]
          },
          "metadata": {
            "tags": [],
            "needs_background": "light"
          }
        }
      ]
    },
    {
      "cell_type": "code",
      "metadata": {
        "id": "OBUM-Amv3L36"
      },
      "source": [
        "# Reshape data to fit the model\n",
        "x_train = x_train.reshape(60000, 28,28,1)\n",
        "x_test = x_test.reshape(10000, 28,28,1)"
      ],
      "execution_count": 25,
      "outputs": []
    },
    {
      "cell_type": "code",
      "metadata": {
        "colab": {
          "base_uri": "https://localhost:8080/"
        },
        "id": "AKIoBU694P4K",
        "outputId": "5ec6e22e-d716-4464-c09a-51a6e204cf3e"
      },
      "source": [
        "#One-Hot encoding\n",
        "y_train_one_hot = to_categorical(y_train)\n",
        "y_test_one_hot = to_categorical(y_test)\n",
        "\n",
        "# print the new label \n",
        "y_train_one_hot[0]"
      ],
      "execution_count": 28,
      "outputs": [
        {
          "output_type": "execute_result",
          "data": {
            "text/plain": [
              "array([0., 0., 0., 0., 0., 1., 0., 0., 0., 0.], dtype=float32)"
            ]
          },
          "metadata": {
            "tags": []
          },
          "execution_count": 28
        }
      ]
    },
    {
      "cell_type": "code",
      "metadata": {
        "id": "N8nZ8R5i6BK3"
      },
      "source": [
        "#Build the CNN model\n",
        "model = Sequential()\n",
        "\n",
        "#add model layers\n",
        "model.add(Conv2D(64, kernel_size=3, activation='relu', input_shape=(28,28,1)))\n",
        "model.add(Conv2D(32, kernel_size=3, activation='relu')) \n",
        "model.add(Flatten())\n",
        "model.add(Dense(10, activation='softmax'))"
      ],
      "execution_count": 30,
      "outputs": []
    },
    {
      "cell_type": "code",
      "metadata": {
        "id": "8OENwbOI73qv"
      },
      "source": [
        "#Compile the model\n",
        "model.compile(optimizer='adam', loss='categorical_crossentropy', metrics=['accuracy']) "
      ],
      "execution_count": 32,
      "outputs": []
    },
    {
      "cell_type": "code",
      "metadata": {
        "colab": {
          "base_uri": "https://localhost:8080/"
        },
        "id": "1kCvM17Y8ffm",
        "outputId": "4afb6cc3-4d12-4a36-a77a-7b44adbfd42a"
      },
      "source": [
        "# Train the model\n",
        "hist = model.fit(x_train, y_train_one_hot, validation_data=(x_test, y_test_one_hot), epochs=3)\n"
      ],
      "execution_count": 33,
      "outputs": [
        {
          "output_type": "stream",
          "text": [
            "Epoch 1/3\n",
            "1875/1875 [==============================] - 162s 79ms/step - loss: 0.9933 - accuracy: 0.9091 - val_loss: 0.0917 - val_accuracy: 0.9701\n",
            "Epoch 2/3\n",
            "1875/1875 [==============================] - 148s 79ms/step - loss: 0.0710 - accuracy: 0.9786 - val_loss: 0.0820 - val_accuracy: 0.9759\n",
            "Epoch 3/3\n",
            "1875/1875 [==============================] - 148s 79ms/step - loss: 0.0491 - accuracy: 0.9845 - val_loss: 0.0849 - val_accuracy: 0.9764\n"
          ],
          "name": "stdout"
        }
      ]
    },
    {
      "cell_type": "code",
      "metadata": {
        "colab": {
          "base_uri": "https://localhost:8080/",
          "height": 295
        },
        "id": "PgSvyjd3BeGq",
        "outputId": "e07e3f45-ae40-4a3b-dea7-e3cc14c15884"
      },
      "source": [
        "#Visulize the models accuracy\n",
        "plt.plot(hist.history['accuracy'])\n",
        "plt.plot(hist.history['val_accuracy'])\n",
        "plt.title(\"Model Accuracy\")\n",
        "\n",
        "plt.ylabel('Accuracy')\n",
        "plt.xlabel('Epoch')\n",
        "plt.legend(['Train', 'Val'], loc='upper left')\n",
        "plt.show()"
      ],
      "execution_count": 37,
      "outputs": [
        {
          "output_type": "display_data",
          "data": {
            "image/png": "[encoded data removed]",
            "text/plain": [
              "<Figure size 432x288 with 1 Axes>"
            ]
          },
          "metadata": {
            "tags": [],
            "needs_background": "light"
          }
        }
      ]
    },
    {
      "cell_type": "code",
      "metadata": {
        "colab": {
          "base_uri": "https://localhost:8080/"
        },
        "id": "Ue05Bz_fKbn7",
        "outputId": "5b4d93f5-6d46-4a35-e7a1-b27d070333c4"
      },
      "source": [
        "#Show predictions as probabilities for the first images in the test\n",
        "predictions = model.predict(x_test[:4])\n",
        "predictions\n"
      ],
      "execution_count": 38,
      "outputs": [
        {
          "output_type": "execute_result",
          "data": {
            "text/plain": [
              "array([[7.5357754e-13, 9.7333003e-14, 5.7690767e-07, 9.1542543e-06,\n",
              "        1.8319923e-14, 1.0097723e-12, 3.6645840e-16, 9.9999022e-01,\n",
              "        3.9068184e-09, 6.9499402e-09],\n",
              "       [9.4600537e-08, 7.9030149e-05, 9.9617970e-01, 6.0134866e-08,\n",
              "        2.9595403e-11, 9.9110954e-13, 3.7410895e-03, 1.2741868e-11,\n",
              "        4.0934175e-08, 7.5856994e-11],\n",
              "       [5.3936660e-06, 9.9987602e-01, 6.4848550e-06, 9.5195052e-09,\n",
              "        6.6221444e-05, 2.3398547e-06, 8.5887552e-07, 9.9380815e-10,\n",
              "        4.2594005e-05, 4.2162956e-08],\n",
              "       [9.9999309e-01, 4.9028633e-12, 3.3499546e-08, 6.4478882e-12,\n",
              "        4.1133780e-11, 1.7922318e-09, 1.4595986e-07, 4.6386298e-11,\n",
              "        1.0710043e-07, 6.5497352e-06]], dtype=float32)"
            ]
          },
          "metadata": {
            "tags": []
          },
          "execution_count": 38
        }
      ]
    },
    {
      "cell_type": "code",
      "metadata": {
        "colab": {
          "base_uri": "https://localhost:8080/"
        },
        "id": "SRoCOQVWLepj",
        "outputId": "7ab2dbb3-1e20-41c7-9c1d-15b1380e6020"
      },
      "source": [
        "# Print out predictions as number labels for the first images\n",
        "print(np.argmax(predictions, axis=1))\n",
        "\n",
        "#Print the actual labels\n",
        "print(y_test[:4])"
      ],
      "execution_count": 39,
      "outputs": [
        {
          "output_type": "stream",
          "text": [
            "[7 2 1 0]\n",
            "[7 2 1 0]\n"
          ],
          "name": "stdout"
        }
      ]
    },
    {
      "cell_type": "code",
      "metadata": {
        "colab": {
          "base_uri": "https://localhost:8080/",
          "height": 1000
        },
        "id": "BtNpoB_8MI-y",
        "outputId": "63b426e0-372a-41ef-f7de-4aa74636b14a"
      },
      "source": [
        "# Show first images as pictures\n",
        "\n",
        "for i in range(0,5):\n",
        "  image = x_test[i]\n",
        "  image = np.array(image, dtype='float')\n",
        "  pixels = image.reshape((28, 28))\n",
        "\n",
        "  plt.imshow(pixels, cmap='gray')\n",
        "  plt.show()"
      ],
      "execution_count": 40,
      "outputs": [
        {
          "output_type": "display_data",
          "data": {
            "image/png": "[encoded data removed]",
            "text/plain": [
              "<Figure size 432x288 with 1 Axes>"
            ]
          },
          "metadata": {
            "tags": [],
            "needs_background": "light"
          }
        },
        {
          "output_type": "display_data",
          "data": {
            "image/png": "[encoded data removed]",
            "text/plain": [
              "<Figure size 432x288 with 1 Axes>"
            ]
          },
          "metadata": {
            "tags": [],
            "needs_background": "light"
          }
        },
        {
          "output_type": "display_data",
          "data": {
            "image/png": "[encoded data removed]",
            "text/plain": [
              "<Figure size 432x288 with 1 Axes>"
            ]
          },
          "metadata": {
            "tags": [],
            "needs_background": "light"
          }
        },
        {
          "output_type": "display_data",
          "data": {
            "image/png": "[encoded data removed]",
            "text/plain": [
              "<Figure size 432x288 with 1 Axes>"
            ]
          },
          "metadata": {
            "tags": [],
            "needs_background": "light"
          }
        },
        {
          "output_type": "display_data",
          "data": {
            "image/png": "[encoded data removed]",
            "text/plain": [
              "<Figure size 432x288 with 1 Axes>"
            ]
          },
          "metadata": {
            "tags": [],
            "needs_background": "light"
          }
        }
      ]
    },
    {
      "cell_type": "code",
      "metadata": {
        "id": "3OHPuNDMOgN9"
      },
      "source": [
        ""
      ],
      "execution_count": null,
      "outputs": []
    }
  ]
}